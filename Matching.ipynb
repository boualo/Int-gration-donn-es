{
 "cells": [
  {
   "cell_type": "markdown",
   "id": "900edfff",
   "metadata": {},
   "source": [
    "## Datasets Matching (Scopus - Google Scholar - Web Of Science)"
   ]
  },
  {
   "cell_type": "code",
   "execution_count": 11,
   "id": "8609069c",
   "metadata": {},
   "outputs": [],
   "source": [
    "import pandas as pd\n",
    "import numpy as np\n",
    "import unidecode"
   ]
  },
  {
   "cell_type": "code",
   "execution_count": 12,
   "id": "64cf9c94",
   "metadata": {},
   "outputs": [],
   "source": [
    "scop = pd.read_csv(\"datasets/scopus_dataset.csv\")\n",
    "scop = scop.drop_duplicates()\n",
    "google_sch = pd.read_csv(\"datasets/scholar_dataset.csv\")\n",
    "wos = pd.read_csv(\"datasets/authors_data_wos.csv\")"
   ]
  },
  {
   "cell_type": "markdown",
   "id": "bd73f0df",
   "metadata": {},
   "source": [
    "- Harmoniser les noms de colonnes pour simplifier le traitement"
   ]
  },
  {
   "cell_type": "code",
   "execution_count": 3,
   "id": "eb9fe09a",
   "metadata": {},
   "outputs": [],
   "source": [
    "# Harmoniser les noms de colonnes pour `wos`\n",
    "scop.rename(columns={\n",
    "    \"Author_ID\": \"Author_ID_scop\",\n",
    "    \"Author_Name\": \"Author_Name_scop\",\n",
    "    \"Author_Affiliation\": \"Author_Affiliation_scop\",\n",
    "    \"Author_Citations\": \"Author_Citations_scop\",\n",
    "    \"Author_h-index\": \"Author_h-index_scop\",\n",
    "    \"Co_authors_Names\": \"Co_authors_Names_scop\"\n",
    "}, inplace=True)\n",
    "wos.rename(columns={\n",
    "    \"ID de l'Auteur\": \"Author_ID_wos\",\n",
    "    \"nom_complet\": \"Author_Name_wos\",\n",
    "    \"pays_affiliation\": \"Author_Affiliation_wos\",\n",
    "    \"Sum of Times Cited\": \"Author_Citations_wos\",\n",
    "    \"H-index\": \"Author_h-index_wos\",\n",
    "    \"co_auteurs\": \"Co_authors_Names_wos\",\n",
    "    'Articles' : 'Articles_wos' ,\n",
    "    'Journal' : 'Journal_wos'\n",
    "}, inplace=True)\n",
    "google_sch.rename(columns={\n",
    "    \"ID de l'Auteur\": \"Author_ID_gosch\",\n",
    "    \"Nom Complet\": \"Author_Name_gosch\",\n",
    "    \"Pays d'Affiliation\": \"Author_Affiliation_gosch\",\n",
    "    \"Citations Totales\": \"Author_Citations_gosch\",\n",
    "    \"H-index\": \"Author_h-index_gosch\",   \n",
    "    \"FWCI\": \"Author_FWCI_gosch\",\n",
    "    \"Co-auteurs\": \"Co_authors_Names_gosch\"\n",
    "}, inplace=True)"
   ]
  },
  {
   "cell_type": "code",
   "execution_count": 13,
   "id": "ca613577",
   "metadata": {},
   "outputs": [
    {
     "name": "stdout",
     "output_type": "stream",
     "text": [
      "Index(['Author_ID', 'Author_Name', 'Author_Affiliation', 'Author_Citations',\n",
      "       'Author_Documents', 'Author_h-index', 'Author_FWCI', 'Co_Authors_IDs',\n",
      "       'Co_authors_Names'],\n",
      "      dtype='object')\n",
      "Index(['ID de l'Auteur', 'nom_complet', 'pays_affiliation', 'co_auteurs',\n",
      "       'H-Index', 'Sum of Times Cited', 'Articles', 'Journal'],\n",
      "      dtype='object')\n",
      "Index(['ID de l'Auteur', 'Nom Complet', 'Pays d'Affiliation',\n",
      "       'Citations Totales', 'H-index', 'FWCI', 'Co-auteurs'],\n",
      "      dtype='object')\n"
     ]
    }
   ],
   "source": [
    "print(scop.columns)\n",
    "print(wos.columns)\n",
    "print(google_sch.columns)"
   ]
  },
  {
   "cell_type": "code",
   "execution_count": 5,
   "id": "027a011c-4338-452a-9384-d518f4d000dd",
   "metadata": {},
   "outputs": [
    {
     "data": {
      "text/html": [
       "<div>\n",
       "<style scoped>\n",
       "    .dataframe tbody tr th:only-of-type {\n",
       "        vertical-align: middle;\n",
       "    }\n",
       "\n",
       "    .dataframe tbody tr th {\n",
       "        vertical-align: top;\n",
       "    }\n",
       "\n",
       "    .dataframe thead th {\n",
       "        text-align: right;\n",
       "    }\n",
       "</style>\n",
       "<table border=\"1\" class=\"dataframe\">\n",
       "  <thead>\n",
       "    <tr style=\"text-align: right;\">\n",
       "      <th></th>\n",
       "      <th>Author_ID_wos</th>\n",
       "      <th>Author_Name_wos</th>\n",
       "      <th>Author_Affiliation_wos</th>\n",
       "      <th>Co_authors_Names_wos</th>\n",
       "      <th>H-Index</th>\n",
       "      <th>Author_Citations_wos</th>\n",
       "      <th>Articles_wos</th>\n",
       "      <th>Journal_wos</th>\n",
       "    </tr>\n",
       "  </thead>\n",
       "  <tbody>\n",
       "    <tr>\n",
       "      <th>0</th>\n",
       "      <td>29091850</td>\n",
       "      <td>Aghriche, Ahmed</td>\n",
       "      <td>MOROCCO</td>\n",
       "      <td>[]</td>\n",
       "      <td>2</td>\n",
       "      <td>26</td>\n",
       "      <td>[{'Titre de l’article': 'OSCILLATIONS INDUCED ...</td>\n",
       "      <td>[{'issn': '1937-1632', 'scope': 'Series S of D...</td>\n",
       "    </tr>\n",
       "    <tr>\n",
       "      <th>1</th>\n",
       "      <td>7137580</td>\n",
       "      <td>Dargham, Abdelmajid</td>\n",
       "      <td>MOROCCO</td>\n",
       "      <td>[]</td>\n",
       "      <td>1</td>\n",
       "      <td>2</td>\n",
       "      <td>[{'Titre de l’article': 'REDUCING THE INTERPRO...</td>\n",
       "      <td>[{'issn': '1895-1767', 'scope': 'The area of s...</td>\n",
       "    </tr>\n",
       "    <tr>\n",
       "      <th>2</th>\n",
       "      <td>20979755</td>\n",
       "      <td>El Bannay, Omar</td>\n",
       "      <td>MOROCCO</td>\n",
       "      <td>[]</td>\n",
       "      <td>2</td>\n",
       "      <td>27</td>\n",
       "      <td>[{'Titre de l’article': 'Determining the potat...</td>\n",
       "      <td>[{'issn': '0957-0233', 'scope': 'Measurement  ...</td>\n",
       "    </tr>\n",
       "    <tr>\n",
       "      <th>3</th>\n",
       "      <td>20988767</td>\n",
       "      <td>Fatmi, Nadia Idrissi</td>\n",
       "      <td>MOROCCO</td>\n",
       "      <td>[]</td>\n",
       "      <td>1</td>\n",
       "      <td>4</td>\n",
       "      <td>[{'Titre de l’article': 'MATHEMATICAL MODEL AN...</td>\n",
       "      <td>[{'issn': '2052-2541', 'scope': 'Information n...</td>\n",
       "    </tr>\n",
       "    <tr>\n",
       "      <th>4</th>\n",
       "      <td>29836419</td>\n",
       "      <td>Ifzarne, Aziz</td>\n",
       "      <td>MOROCCO</td>\n",
       "      <td>[]</td>\n",
       "      <td>3</td>\n",
       "      <td>32</td>\n",
       "      <td>[{'Titre de l’article': 'Quarter-Tone Music: A...</td>\n",
       "      <td>[{'issn': '0302-9743', 'scope': 'This distingu...</td>\n",
       "    </tr>\n",
       "    <tr>\n",
       "      <th>5</th>\n",
       "      <td>63349824</td>\n",
       "      <td>Lamghari, Nidal</td>\n",
       "      <td>MOROCCO</td>\n",
       "      <td>[]</td>\n",
       "      <td>0</td>\n",
       "      <td>0</td>\n",
       "      <td>[{'Titre de l’article': 'Subword recognition i...</td>\n",
       "      <td>[{'issn': '1433-2833', 'scope': 'The large num...</td>\n",
       "    </tr>\n",
       "    <tr>\n",
       "      <th>6</th>\n",
       "      <td>50018709</td>\n",
       "      <td>noureddine aboutabit</td>\n",
       "      <td>NaN</td>\n",
       "      <td>['Lamghari, Nidal', 'Dahbali, Mohamed', 'Mait,...</td>\n",
       "      <td>1</td>\n",
       "      <td>1</td>\n",
       "      <td>[{'Titre de l’article': 'Subword recognition i...</td>\n",
       "      <td>[{'issn': '1433-2833', 'scope': 'The large num...</td>\n",
       "    </tr>\n",
       "    <tr>\n",
       "      <th>7</th>\n",
       "      <td>63421194</td>\n",
       "      <td>Dahbali, Mohamed</td>\n",
       "      <td>MOROCCO</td>\n",
       "      <td>[]</td>\n",
       "      <td>0</td>\n",
       "      <td>0</td>\n",
       "      <td>[{'Titre de l’article': 'Subword recognition i...</td>\n",
       "      <td>[{'issn': '1433-2833', 'scope': 'The large num...</td>\n",
       "    </tr>\n",
       "    <tr>\n",
       "      <th>8</th>\n",
       "      <td>63939275</td>\n",
       "      <td>Mait, Hind Ait</td>\n",
       "      <td>MOROCCO</td>\n",
       "      <td>[]</td>\n",
       "      <td>0</td>\n",
       "      <td>0</td>\n",
       "      <td>[{'Titre de l’article': 'Unsupervised VAD meth...</td>\n",
       "      <td>[{'issn': '0952-8091', 'scope': 'IJCAT address...</td>\n",
       "    </tr>\n",
       "    <tr>\n",
       "      <th>9</th>\n",
       "      <td>12149340</td>\n",
       "      <td>Nasri, Mohamed</td>\n",
       "      <td>MOROCCO</td>\n",
       "      <td>[]</td>\n",
       "      <td>2</td>\n",
       "      <td>11</td>\n",
       "      <td>[{'Titre de l’article': 'Semantic Analysis of ...</td>\n",
       "      <td>[{'issn': None, 'scope': 'N/A', 'index': 'WOS'...</td>\n",
       "    </tr>\n",
       "    <tr>\n",
       "      <th>10</th>\n",
       "      <td>48203381</td>\n",
       "      <td>Saadi, Mostafa</td>\n",
       "      <td>MOROCCO</td>\n",
       "      <td>[]</td>\n",
       "      <td>1</td>\n",
       "      <td>7</td>\n",
       "      <td>[{'Titre de l’article': \"Leveraging the intern...</td>\n",
       "      <td>[{'issn': '0952-8091', 'scope': 'IJCAT address...</td>\n",
       "    </tr>\n",
       "    <tr>\n",
       "      <th>11</th>\n",
       "      <td>14554912</td>\n",
       "      <td>Soussi, Nassima</td>\n",
       "      <td>MOROCCO</td>\n",
       "      <td>[]</td>\n",
       "      <td>3</td>\n",
       "      <td>40</td>\n",
       "      <td>[{'Titre de l’article': 'OPTIMIZATION OF COLUM...</td>\n",
       "      <td>[{'issn': '1335-9150', 'scope': 'Main Journal ...</td>\n",
       "    </tr>\n",
       "    <tr>\n",
       "      <th>12</th>\n",
       "      <td>26919255</td>\n",
       "      <td>Rochd, Yassir</td>\n",
       "      <td>MOROCCO</td>\n",
       "      <td>[]</td>\n",
       "      <td>1</td>\n",
       "      <td>1</td>\n",
       "      <td>[{'Titre de l’article': 'REVIEW OF HEURISTIC A...</td>\n",
       "      <td>[{'issn': '1335-9150', 'scope': 'Main Journal ...</td>\n",
       "    </tr>\n",
       "    <tr>\n",
       "      <th>13</th>\n",
       "      <td>22267216</td>\n",
       "      <td>Hafidi, Imad</td>\n",
       "      <td>MOROCCO</td>\n",
       "      <td>[]</td>\n",
       "      <td>1</td>\n",
       "      <td>9</td>\n",
       "      <td>[{'Titre de l’article': 'Sentiment analysis da...</td>\n",
       "      <td>[{'issn': '1574-020X', 'scope': 'Language Reso...</td>\n",
       "    </tr>\n",
       "    <tr>\n",
       "      <th>14</th>\n",
       "      <td>15446425</td>\n",
       "      <td>Ghazdali, Abdelghani</td>\n",
       "      <td>MOROCCO</td>\n",
       "      <td>[]</td>\n",
       "      <td>5</td>\n",
       "      <td>107</td>\n",
       "      <td>[{'Titre de l’article': 'Poisson noise and Gau...</td>\n",
       "      <td>[{'issn': '1380-7501', 'scope': 'Multimedia To...</td>\n",
       "    </tr>\n",
       "    <tr>\n",
       "      <th>15</th>\n",
       "      <td>3860521</td>\n",
       "      <td>HAKIM EL MASSARI</td>\n",
       "      <td>Université Cadi Ayyad</td>\n",
       "      <td>['Gherabi, Noreddine', 'Mhammedi, Sajida', 'Qa...</td>\n",
       "      <td>4</td>\n",
       "      <td>21</td>\n",
       "      <td>[{'Titre de l’article': 'Road Accident Detecti...</td>\n",
       "      <td>[{'issn': '2158-107X', 'scope': 'Information n...</td>\n",
       "    </tr>\n",
       "    <tr>\n",
       "      <th>16</th>\n",
       "      <td>4131094</td>\n",
       "      <td>Aarab, A.</td>\n",
       "      <td>MOROCCO</td>\n",
       "      <td>[]</td>\n",
       "      <td>3</td>\n",
       "      <td>12</td>\n",
       "      <td>[{'Titre de l’article': 'State initialization ...</td>\n",
       "      <td>[{'issn': '2469-9950', 'scope': 'Physical Revi...</td>\n",
       "    </tr>\n",
       "    <tr>\n",
       "      <th>17</th>\n",
       "      <td>30640054</td>\n",
       "      <td>Taourirte, Laila</td>\n",
       "      <td>MOROCCO</td>\n",
       "      <td>[]</td>\n",
       "      <td>2</td>\n",
       "      <td>16</td>\n",
       "      <td>[{'Titre de l’article': 'ON THE SOLVABILITY OF...</td>\n",
       "      <td>[{'issn': '1232-9274', 'scope': 'The journal O...</td>\n",
       "    </tr>\n",
       "    <tr>\n",
       "      <th>18</th>\n",
       "      <td>21937449</td>\n",
       "      <td>Guedda, M.</td>\n",
       "      <td>FRANCE</td>\n",
       "      <td>[]</td>\n",
       "      <td>12</td>\n",
       "      <td>517</td>\n",
       "      <td>[{'Titre de l’article': 'Analytical solutions ...</td>\n",
       "      <td>[{'issn': '1054-1500', 'scope': 'Chaos is a qu...</td>\n",
       "    </tr>\n",
       "    <tr>\n",
       "      <th>19</th>\n",
       "      <td>3700900</td>\n",
       "      <td>Mourad Nachaoui</td>\n",
       "      <td>NaN</td>\n",
       "      <td>['Nachaoui, Abdeljalil', 'Laghrib, Amine', 'Ch...</td>\n",
       "      <td>10</td>\n",
       "      <td>238</td>\n",
       "      <td>[{'Titre de l’article': 'Time-fractionated ani...</td>\n",
       "      <td>[{'issn': '0307-904X', 'scope': 'Applied Mathe...</td>\n",
       "    </tr>\n",
       "    <tr>\n",
       "      <th>20</th>\n",
       "      <td>8260331</td>\n",
       "      <td>Hadri, Aissam</td>\n",
       "      <td>MOROCCO</td>\n",
       "      <td>[]</td>\n",
       "      <td>11</td>\n",
       "      <td>328</td>\n",
       "      <td>[{'Titre de l’article': 'FRACTIONAL OPTIMAL CO...</td>\n",
       "      <td>[{'issn': '1930-8337', 'scope': 'Inverse Probl...</td>\n",
       "    </tr>\n",
       "    <tr>\n",
       "      <th>21</th>\n",
       "      <td>21146974</td>\n",
       "      <td>Fahim, H.</td>\n",
       "      <td>MOROCCO</td>\n",
       "      <td>[]</td>\n",
       "      <td>2</td>\n",
       "      <td>28</td>\n",
       "      <td>[{'Titre de l’article': 'Parabolic systems dri...</td>\n",
       "      <td>[{'issn': '2296-9020', 'scope': 'The Journal p...</td>\n",
       "    </tr>\n",
       "    <tr>\n",
       "      <th>22</th>\n",
       "      <td>24013573</td>\n",
       "      <td>Lefraich, Hamid</td>\n",
       "      <td>MOROCCO</td>\n",
       "      <td>[]</td>\n",
       "      <td>1</td>\n",
       "      <td>4</td>\n",
       "      <td>[{'Titre de l’article': 'On the existence of g...</td>\n",
       "      <td>[{'issn': '1223-6934', 'scope': 'The Annals of...</td>\n",
       "    </tr>\n",
       "    <tr>\n",
       "      <th>23</th>\n",
       "      <td>30334301</td>\n",
       "      <td>Pierre, Morgan</td>\n",
       "      <td>FRANCE</td>\n",
       "      <td>[]</td>\n",
       "      <td>8</td>\n",
       "      <td>266</td>\n",
       "      <td>[{'Titre de l’article': 'A robust family of ex...</td>\n",
       "      <td>[{'issn': '2822-7840', 'scope': 'M2AN publishe...</td>\n",
       "    </tr>\n",
       "    <tr>\n",
       "      <th>24</th>\n",
       "      <td>33473390</td>\n",
       "      <td>Amine Laghrib</td>\n",
       "      <td>Faculty of Sciences and Techniques</td>\n",
       "      <td>['Hadri, Aissam', 'Hakim, Abdelilah', 'Afraite...</td>\n",
       "      <td>15</td>\n",
       "      <td>599</td>\n",
       "      <td>[{'Titre de l’article': 'FRACTIONAL OPTIMAL CO...</td>\n",
       "      <td>[{'issn': '1930-8337', 'scope': 'Inverse Probl...</td>\n",
       "    </tr>\n",
       "    <tr>\n",
       "      <th>25</th>\n",
       "      <td>33428872</td>\n",
       "      <td>Nour Eddine Alaa</td>\n",
       "      <td>NaN</td>\n",
       "      <td>['Charkaoui, Abderrahim', 'Aqel, Fatima', 'Kha...</td>\n",
       "      <td>10</td>\n",
       "      <td>358</td>\n",
       "      <td>[{'Titre de l’article': 'Development and simul...</td>\n",
       "      <td>[{'issn': '1223-6934', 'scope': 'The Annals of...</td>\n",
       "    </tr>\n",
       "    <tr>\n",
       "      <th>26</th>\n",
       "      <td>3265659</td>\n",
       "      <td>Fatima Qanouni</td>\n",
       "      <td>Sultan Moulay Slimane University</td>\n",
       "      <td>['Gherabi, Noreddine', 'El Massari, Hakim', 'M...</td>\n",
       "      <td>1</td>\n",
       "      <td>7</td>\n",
       "      <td>[{'Titre de l’article': 'Diabetes Prediction U...</td>\n",
       "      <td>[{'issn': '2158-107X', 'scope': 'Information n...</td>\n",
       "    </tr>\n",
       "    <tr>\n",
       "      <th>27</th>\n",
       "      <td>3334924</td>\n",
       "      <td>Mohamed BAHAJ</td>\n",
       "      <td>NaN</td>\n",
       "      <td>['Khallouki, Hajar', 'Khourdifi, Youness', 'Ad...</td>\n",
       "      <td>6</td>\n",
       "      <td>124</td>\n",
       "      <td>[{'Titre de l’article': 'An Ontological Model ...</td>\n",
       "      <td>[{'issn': '2158-107X', 'scope': 'Information n...</td>\n",
       "    </tr>\n",
       "    <tr>\n",
       "      <th>28</th>\n",
       "      <td>34324840</td>\n",
       "      <td>Hamza Ghandi</td>\n",
       "      <td>MOROCCO</td>\n",
       "      <td>[]</td>\n",
       "      <td>2</td>\n",
       "      <td>13</td>\n",
       "      <td>[{'Titre de l’article': 'An Ontological Model ...</td>\n",
       "      <td>[{'issn': '2158-107X', 'scope': 'Information n...</td>\n",
       "    </tr>\n",
       "    <tr>\n",
       "      <th>29</th>\n",
       "      <td>38508667</td>\n",
       "      <td>Amnai, Mohammed</td>\n",
       "      <td>MOROCCO</td>\n",
       "      <td>[]</td>\n",
       "      <td>2</td>\n",
       "      <td>15</td>\n",
       "      <td>[{'Titre de l’article': 'New unfreezing strate...</td>\n",
       "      <td>[{'issn': '2468-2276', 'scope': 'Scientific Af...</td>\n",
       "    </tr>\n",
       "    <tr>\n",
       "      <th>30</th>\n",
       "      <td>47898726</td>\n",
       "      <td>Moustati, Imane</td>\n",
       "      <td>MOROCCO</td>\n",
       "      <td>[]</td>\n",
       "      <td>1</td>\n",
       "      <td>4</td>\n",
       "      <td>[{'Titre de l’article': \"Leveraging the intern...</td>\n",
       "      <td>[{'issn': '0952-8091', 'scope': 'IJCAT address...</td>\n",
       "    </tr>\n",
       "    <tr>\n",
       "      <th>31</th>\n",
       "      <td>2093484</td>\n",
       "      <td>Raza Naqvi</td>\n",
       "      <td>LGP</td>\n",
       "      <td>['Iqbal, Muhammad Waseem', 'Shahzad, Syed Khur...</td>\n",
       "      <td>6</td>\n",
       "      <td>125</td>\n",
       "      <td>[{'Titre de l’article': 'Survey on ontology-ba...</td>\n",
       "      <td>[{'issn': '0956-5515', 'scope': 'Published eig...</td>\n",
       "    </tr>\n",
       "    <tr>\n",
       "      <th>32</th>\n",
       "      <td>4154681</td>\n",
       "      <td>Khaoula Addakiri</td>\n",
       "      <td>MOROCCO</td>\n",
       "      <td>[]</td>\n",
       "      <td>0</td>\n",
       "      <td>0</td>\n",
       "      <td>[{'Titre de l’article': 'Intelligent Urban Tra...</td>\n",
       "      <td>[{'issn': '2367-3370', 'scope': 'The series co...</td>\n",
       "    </tr>\n",
       "    <tr>\n",
       "      <th>33</th>\n",
       "      <td>6582591</td>\n",
       "      <td>Choukri, Ali</td>\n",
       "      <td>MOROCCO</td>\n",
       "      <td>[]</td>\n",
       "      <td>5</td>\n",
       "      <td>87</td>\n",
       "      <td>[{'Titre de l’article': 'Characterization of A...</td>\n",
       "      <td>[{'issn': '0044-8435', 'scope': 'Apidologie is...</td>\n",
       "    </tr>\n",
       "    <tr>\n",
       "      <th>34</th>\n",
       "      <td>40252978</td>\n",
       "      <td>El Moudden, Tarik</td>\n",
       "      <td>MOROCCO</td>\n",
       "      <td>[]</td>\n",
       "      <td>1</td>\n",
       "      <td>2</td>\n",
       "      <td>[{'Titre de l’article': \"Artificial intelligen...</td>\n",
       "      <td>[{'issn': '0264-3707', 'scope': 'The Journal o...</td>\n",
       "    </tr>\n",
       "    <tr>\n",
       "      <th>35</th>\n",
       "      <td>40640913</td>\n",
       "      <td>Nasri, Mohammed</td>\n",
       "      <td>MOROCCO</td>\n",
       "      <td>[]</td>\n",
       "      <td>2</td>\n",
       "      <td>7</td>\n",
       "      <td>[{'Titre de l’article': 'Prediction of Depress...</td>\n",
       "      <td>[{'issn': '2626-8493', 'scope': 'Information n...</td>\n",
       "    </tr>\n",
       "    <tr>\n",
       "      <th>36</th>\n",
       "      <td>47943401</td>\n",
       "      <td>Sabouri, Zineb</td>\n",
       "      <td>MOROCCO</td>\n",
       "      <td>[]</td>\n",
       "      <td>1</td>\n",
       "      <td>4</td>\n",
       "      <td>[{'Titre de l’article': 'Prediction of Depress...</td>\n",
       "      <td>[{'issn': '2626-8493', 'scope': 'Information n...</td>\n",
       "    </tr>\n",
       "    <tr>\n",
       "      <th>37</th>\n",
       "      <td>57499050</td>\n",
       "      <td>Fakhri, Youssef</td>\n",
       "      <td>MOROCCO</td>\n",
       "      <td>[]</td>\n",
       "      <td>0</td>\n",
       "      <td>0</td>\n",
       "      <td>[{'Titre de l’article': \"Artificial intelligen...</td>\n",
       "      <td>[{'issn': '0264-3707', 'scope': 'The Journal o...</td>\n",
       "    </tr>\n",
       "    <tr>\n",
       "      <th>38</th>\n",
       "      <td>63042094</td>\n",
       "      <td>El Badaoui, Maria</td>\n",
       "      <td>MOROCCO</td>\n",
       "      <td>[]</td>\n",
       "      <td>0</td>\n",
       "      <td>0</td>\n",
       "      <td>[{'Titre de l’article': 'Road Accident Detecti...</td>\n",
       "      <td>[{'issn': '2158-107X', 'scope': 'Information n...</td>\n",
       "    </tr>\n",
       "    <tr>\n",
       "      <th>39</th>\n",
       "      <td>2243973</td>\n",
       "      <td>Noreddine gherabi</td>\n",
       "      <td>NaN</td>\n",
       "      <td>['El Massari, Hakim', 'Qanouni, Fatima', 'Baha...</td>\n",
       "      <td>3</td>\n",
       "      <td>17</td>\n",
       "      <td>[{'Titre de l’article': 'New unfreezing strate...</td>\n",
       "      <td>[{'issn': '2468-2276', 'scope': 'Scientific Af...</td>\n",
       "    </tr>\n",
       "  </tbody>\n",
       "</table>\n",
       "</div>"
      ],
      "text/plain": [
       "    Author_ID_wos       Author_Name_wos              Author_Affiliation_wos  \\\n",
       "0        29091850       Aghriche, Ahmed                             MOROCCO   \n",
       "1         7137580   Dargham, Abdelmajid                             MOROCCO   \n",
       "2        20979755       El Bannay, Omar                             MOROCCO   \n",
       "3        20988767  Fatmi, Nadia Idrissi                             MOROCCO   \n",
       "4        29836419         Ifzarne, Aziz                             MOROCCO   \n",
       "5        63349824       Lamghari, Nidal                             MOROCCO   \n",
       "6        50018709  noureddine aboutabit                                 NaN   \n",
       "7        63421194      Dahbali, Mohamed                             MOROCCO   \n",
       "8        63939275        Mait, Hind Ait                             MOROCCO   \n",
       "9        12149340        Nasri, Mohamed                             MOROCCO   \n",
       "10       48203381        Saadi, Mostafa                             MOROCCO   \n",
       "11       14554912       Soussi, Nassima                             MOROCCO   \n",
       "12       26919255         Rochd, Yassir                             MOROCCO   \n",
       "13       22267216          Hafidi, Imad                             MOROCCO   \n",
       "14       15446425  Ghazdali, Abdelghani                             MOROCCO   \n",
       "15        3860521      HAKIM EL MASSARI               Université Cadi Ayyad   \n",
       "16        4131094             Aarab, A.                             MOROCCO   \n",
       "17       30640054      Taourirte, Laila                             MOROCCO   \n",
       "18       21937449            Guedda, M.                              FRANCE   \n",
       "19        3700900       Mourad Nachaoui                                 NaN   \n",
       "20        8260331         Hadri, Aissam                             MOROCCO   \n",
       "21       21146974             Fahim, H.                             MOROCCO   \n",
       "22       24013573       Lefraich, Hamid                             MOROCCO   \n",
       "23       30334301        Pierre, Morgan                              FRANCE   \n",
       "24       33473390         Amine Laghrib  Faculty of Sciences and Techniques   \n",
       "25       33428872      Nour Eddine Alaa                                 NaN   \n",
       "26        3265659        Fatima Qanouni    Sultan Moulay Slimane University   \n",
       "27        3334924         Mohamed BAHAJ                                 NaN   \n",
       "28       34324840          Hamza Ghandi                             MOROCCO   \n",
       "29       38508667       Amnai, Mohammed                             MOROCCO   \n",
       "30       47898726       Moustati, Imane                             MOROCCO   \n",
       "31        2093484            Raza Naqvi                                 LGP   \n",
       "32        4154681      Khaoula Addakiri                             MOROCCO   \n",
       "33        6582591          Choukri, Ali                             MOROCCO   \n",
       "34       40252978     El Moudden, Tarik                             MOROCCO   \n",
       "35       40640913       Nasri, Mohammed                             MOROCCO   \n",
       "36       47943401        Sabouri, Zineb                             MOROCCO   \n",
       "37       57499050       Fakhri, Youssef                             MOROCCO   \n",
       "38       63042094     El Badaoui, Maria                             MOROCCO   \n",
       "39        2243973     Noreddine gherabi                                 NaN   \n",
       "\n",
       "                                 Co_authors_Names_wos  H-Index  \\\n",
       "0                                                  []        2   \n",
       "1                                                  []        1   \n",
       "2                                                  []        2   \n",
       "3                                                  []        1   \n",
       "4                                                  []        3   \n",
       "5                                                  []        0   \n",
       "6   ['Lamghari, Nidal', 'Dahbali, Mohamed', 'Mait,...        1   \n",
       "7                                                  []        0   \n",
       "8                                                  []        0   \n",
       "9                                                  []        2   \n",
       "10                                                 []        1   \n",
       "11                                                 []        3   \n",
       "12                                                 []        1   \n",
       "13                                                 []        1   \n",
       "14                                                 []        5   \n",
       "15  ['Gherabi, Noreddine', 'Mhammedi, Sajida', 'Qa...        4   \n",
       "16                                                 []        3   \n",
       "17                                                 []        2   \n",
       "18                                                 []       12   \n",
       "19  ['Nachaoui, Abdeljalil', 'Laghrib, Amine', 'Ch...       10   \n",
       "20                                                 []       11   \n",
       "21                                                 []        2   \n",
       "22                                                 []        1   \n",
       "23                                                 []        8   \n",
       "24  ['Hadri, Aissam', 'Hakim, Abdelilah', 'Afraite...       15   \n",
       "25  ['Charkaoui, Abderrahim', 'Aqel, Fatima', 'Kha...       10   \n",
       "26  ['Gherabi, Noreddine', 'El Massari, Hakim', 'M...        1   \n",
       "27  ['Khallouki, Hajar', 'Khourdifi, Youness', 'Ad...        6   \n",
       "28                                                 []        2   \n",
       "29                                                 []        2   \n",
       "30                                                 []        1   \n",
       "31  ['Iqbal, Muhammad Waseem', 'Shahzad, Syed Khur...        6   \n",
       "32                                                 []        0   \n",
       "33                                                 []        5   \n",
       "34                                                 []        1   \n",
       "35                                                 []        2   \n",
       "36                                                 []        1   \n",
       "37                                                 []        0   \n",
       "38                                                 []        0   \n",
       "39  ['El Massari, Hakim', 'Qanouni, Fatima', 'Baha...        3   \n",
       "\n",
       "    Author_Citations_wos                                       Articles_wos  \\\n",
       "0                     26  [{'Titre de l’article': 'OSCILLATIONS INDUCED ...   \n",
       "1                      2  [{'Titre de l’article': 'REDUCING THE INTERPRO...   \n",
       "2                     27  [{'Titre de l’article': 'Determining the potat...   \n",
       "3                      4  [{'Titre de l’article': 'MATHEMATICAL MODEL AN...   \n",
       "4                     32  [{'Titre de l’article': 'Quarter-Tone Music: A...   \n",
       "5                      0  [{'Titre de l’article': 'Subword recognition i...   \n",
       "6                      1  [{'Titre de l’article': 'Subword recognition i...   \n",
       "7                      0  [{'Titre de l’article': 'Subword recognition i...   \n",
       "8                      0  [{'Titre de l’article': 'Unsupervised VAD meth...   \n",
       "9                     11  [{'Titre de l’article': 'Semantic Analysis of ...   \n",
       "10                     7  [{'Titre de l’article': \"Leveraging the intern...   \n",
       "11                    40  [{'Titre de l’article': 'OPTIMIZATION OF COLUM...   \n",
       "12                     1  [{'Titre de l’article': 'REVIEW OF HEURISTIC A...   \n",
       "13                     9  [{'Titre de l’article': 'Sentiment analysis da...   \n",
       "14                   107  [{'Titre de l’article': 'Poisson noise and Gau...   \n",
       "15                    21  [{'Titre de l’article': 'Road Accident Detecti...   \n",
       "16                    12  [{'Titre de l’article': 'State initialization ...   \n",
       "17                    16  [{'Titre de l’article': 'ON THE SOLVABILITY OF...   \n",
       "18                   517  [{'Titre de l’article': 'Analytical solutions ...   \n",
       "19                   238  [{'Titre de l’article': 'Time-fractionated ani...   \n",
       "20                   328  [{'Titre de l’article': 'FRACTIONAL OPTIMAL CO...   \n",
       "21                    28  [{'Titre de l’article': 'Parabolic systems dri...   \n",
       "22                     4  [{'Titre de l’article': 'On the existence of g...   \n",
       "23                   266  [{'Titre de l’article': 'A robust family of ex...   \n",
       "24                   599  [{'Titre de l’article': 'FRACTIONAL OPTIMAL CO...   \n",
       "25                   358  [{'Titre de l’article': 'Development and simul...   \n",
       "26                     7  [{'Titre de l’article': 'Diabetes Prediction U...   \n",
       "27                   124  [{'Titre de l’article': 'An Ontological Model ...   \n",
       "28                    13  [{'Titre de l’article': 'An Ontological Model ...   \n",
       "29                    15  [{'Titre de l’article': 'New unfreezing strate...   \n",
       "30                     4  [{'Titre de l’article': \"Leveraging the intern...   \n",
       "31                   125  [{'Titre de l’article': 'Survey on ontology-ba...   \n",
       "32                     0  [{'Titre de l’article': 'Intelligent Urban Tra...   \n",
       "33                    87  [{'Titre de l’article': 'Characterization of A...   \n",
       "34                     2  [{'Titre de l’article': \"Artificial intelligen...   \n",
       "35                     7  [{'Titre de l’article': 'Prediction of Depress...   \n",
       "36                     4  [{'Titre de l’article': 'Prediction of Depress...   \n",
       "37                     0  [{'Titre de l’article': \"Artificial intelligen...   \n",
       "38                     0  [{'Titre de l’article': 'Road Accident Detecti...   \n",
       "39                    17  [{'Titre de l’article': 'New unfreezing strate...   \n",
       "\n",
       "                                          Journal_wos  \n",
       "0   [{'issn': '1937-1632', 'scope': 'Series S of D...  \n",
       "1   [{'issn': '1895-1767', 'scope': 'The area of s...  \n",
       "2   [{'issn': '0957-0233', 'scope': 'Measurement  ...  \n",
       "3   [{'issn': '2052-2541', 'scope': 'Information n...  \n",
       "4   [{'issn': '0302-9743', 'scope': 'This distingu...  \n",
       "5   [{'issn': '1433-2833', 'scope': 'The large num...  \n",
       "6   [{'issn': '1433-2833', 'scope': 'The large num...  \n",
       "7   [{'issn': '1433-2833', 'scope': 'The large num...  \n",
       "8   [{'issn': '0952-8091', 'scope': 'IJCAT address...  \n",
       "9   [{'issn': None, 'scope': 'N/A', 'index': 'WOS'...  \n",
       "10  [{'issn': '0952-8091', 'scope': 'IJCAT address...  \n",
       "11  [{'issn': '1335-9150', 'scope': 'Main Journal ...  \n",
       "12  [{'issn': '1335-9150', 'scope': 'Main Journal ...  \n",
       "13  [{'issn': '1574-020X', 'scope': 'Language Reso...  \n",
       "14  [{'issn': '1380-7501', 'scope': 'Multimedia To...  \n",
       "15  [{'issn': '2158-107X', 'scope': 'Information n...  \n",
       "16  [{'issn': '2469-9950', 'scope': 'Physical Revi...  \n",
       "17  [{'issn': '1232-9274', 'scope': 'The journal O...  \n",
       "18  [{'issn': '1054-1500', 'scope': 'Chaos is a qu...  \n",
       "19  [{'issn': '0307-904X', 'scope': 'Applied Mathe...  \n",
       "20  [{'issn': '1930-8337', 'scope': 'Inverse Probl...  \n",
       "21  [{'issn': '2296-9020', 'scope': 'The Journal p...  \n",
       "22  [{'issn': '1223-6934', 'scope': 'The Annals of...  \n",
       "23  [{'issn': '2822-7840', 'scope': 'M2AN publishe...  \n",
       "24  [{'issn': '1930-8337', 'scope': 'Inverse Probl...  \n",
       "25  [{'issn': '1223-6934', 'scope': 'The Annals of...  \n",
       "26  [{'issn': '2158-107X', 'scope': 'Information n...  \n",
       "27  [{'issn': '2158-107X', 'scope': 'Information n...  \n",
       "28  [{'issn': '2158-107X', 'scope': 'Information n...  \n",
       "29  [{'issn': '2468-2276', 'scope': 'Scientific Af...  \n",
       "30  [{'issn': '0952-8091', 'scope': 'IJCAT address...  \n",
       "31  [{'issn': '0956-5515', 'scope': 'Published eig...  \n",
       "32  [{'issn': '2367-3370', 'scope': 'The series co...  \n",
       "33  [{'issn': '0044-8435', 'scope': 'Apidologie is...  \n",
       "34  [{'issn': '0264-3707', 'scope': 'The Journal o...  \n",
       "35  [{'issn': '2626-8493', 'scope': 'Information n...  \n",
       "36  [{'issn': '2626-8493', 'scope': 'Information n...  \n",
       "37  [{'issn': '0264-3707', 'scope': 'The Journal o...  \n",
       "38  [{'issn': '2158-107X', 'scope': 'Information n...  \n",
       "39  [{'issn': '2468-2276', 'scope': 'Scientific Af...  "
      ]
     },
     "execution_count": 5,
     "metadata": {},
     "output_type": "execute_result"
    }
   ],
   "source": [
    "wos"
   ]
  },
  {
   "cell_type": "code",
   "execution_count": 6,
   "id": "0ee301e9",
   "metadata": {},
   "outputs": [
    {
     "data": {
      "text/plain": [
       "0    Imad, Hafidi\n",
       "Name: Author_Name_scop, dtype: object"
      ]
     },
     "execution_count": 6,
     "metadata": {},
     "output_type": "execute_result"
    }
   ],
   "source": [
    "scop[\"Author_Name_scop\"][:1]"
   ]
  },
  {
   "cell_type": "code",
   "execution_count": 7,
   "id": "816a4975",
   "metadata": {},
   "outputs": [
    {
     "data": {
      "text/plain": [
       "0    Aghriche, Ahmed\n",
       "Name: Author_Name_wos, dtype: object"
      ]
     },
     "execution_count": 7,
     "metadata": {},
     "output_type": "execute_result"
    }
   ],
   "source": [
    "wos[\"Author_Name_wos\"][:1]"
   ]
  },
  {
   "cell_type": "code",
   "execution_count": 8,
   "id": "6c6e7594",
   "metadata": {},
   "outputs": [
    {
     "data": {
      "text/plain": [
       "0    Abdelghani Ghazdali\n",
       "Name: Author_Name_gosch, dtype: object"
      ]
     },
     "execution_count": 8,
     "metadata": {},
     "output_type": "execute_result"
    }
   ],
   "source": [
    "google_sch[\"Author_Name_gosch\"][:1]"
   ]
  },
  {
   "cell_type": "markdown",
   "id": "289b786c",
   "metadata": {},
   "source": [
    "**Remplir les valeurs manquantes.**\n",
    "\n",
    "**Avec les règles:** \n",
    "- Priorité à scop.\n",
    "- Utiliser wos si scop est vide.\n",
    "- Si les deux sont nulles, insérer NaN.\n"
   ]
  },
  {
   "cell_type": "markdown",
   "id": "afcb39e7",
   "metadata": {},
   "source": [
    "- Effectuer la jointure entre scop, wos, et google scholar"
   ]
  },
  {
   "cell_type": "code",
   "execution_count": 9,
   "id": "31c1d87f",
   "metadata": {},
   "outputs": [
    {
     "data": {
      "text/plain": [
       "{'hafidi', 'imad'}"
      ]
     },
     "execution_count": 9,
     "metadata": {},
     "output_type": "execute_result"
    }
   ],
   "source": [
    "import re\n",
    "def name_to_word_set(name):\n",
    "    if pd.isnull(name):\n",
    "        return set()  # Gérer les valeurs manquantes\n",
    "    # Supprimer les caractères spécifiques et normaliser\n",
    "    cleaned_name = re.sub(r'[^\\w\\s]', '', name)  # Garder uniquement les lettres, chiffres et espaces\n",
    "    normalized_name = unidecode.unidecode(cleaned_name.lower().strip())  # Supprimer les accents, passer en minuscule\n",
    "    return set(normalized_name.split()) \n",
    "\n",
    "name_to_word_set(\"Imad, Hafidi\")"
   ]
  },
  {
   "cell_type": "code",
   "execution_count": 10,
   "id": "4ac6f000",
   "metadata": {},
   "outputs": [
    {
     "data": {
      "text/plain": [
       "({'hafidi', 'imad'}, {'hafidi', 'imad'}, {'hafidi', 'imad'})"
      ]
     },
     "execution_count": 10,
     "metadata": {},
     "output_type": "execute_result"
    }
   ],
   "source": [
    "name_to_word_set(\"imad hafidi\"), name_to_word_set(\" Hafidi, Imad\"), name_to_word_set(\"imad hafidi\")"
   ]
  },
  {
   "cell_type": "code",
   "execution_count": null,
   "id": "08284d2b",
   "metadata": {
    "scrolled": true
   },
   "outputs": [],
   "source": [
    "def find_matches(df1, col1, df2, col2):\n",
    "    matches = []\n",
    "    for idx1, name1 in enumerate(df1[col1]):\n",
    "        set1 = name_to_word_set(name1)\n",
    "        match_found = None\n",
    "        for idx2, name2 in enumerate(df2[col2]):\n",
    "            set2 = name_to_word_set(name2)\n",
    "            if set1 == set2:\n",
    "                match_found = df2.iloc[idx2].to_dict()\n",
    "                print(f\"Match found: {name1} ({set1}) == {name2} ({set2})\")\n",
    "                break\n",
    "        # if match_found is None:\n",
    "#             print(f\"No match for: {name1} ({set1})\")\n",
    "        matches.append(match_found)\n",
    "    return pd.DataFrame(matches)\n",
    "\n",
    "\n",
    "# Jointure entre Scopus et WoS\n",
    "scop_wos_matched = find_matches(scop, 'Author_Name_scop', wos, 'Author_Name_wos')\n",
    "\n",
    "# Ajouter les résultats de WoS à Scopus\n",
    "scop_wos_merged = pd.concat([scop, scop_wos_matched.add_suffix('_wos')], axis=1)\n",
    "\n",
    "# Jointure entre le résultat précédent et Google Scholar\n",
    "final_matched = find_matches(scop_wos_merged, 'Author_Name_scop', google_sch, 'Author_Name_gosch')\n",
    "\n",
    "# Ajouter les résultats de Google Scholar\n",
    "final_merged = pd.concat([scop_wos_merged, final_matched.add_suffix('_gosch')], axis=1)"
   ]
  },
  {
   "cell_type": "code",
   "execution_count": null,
   "id": "c61a0c96",
   "metadata": {
    "scrolled": true
   },
   "outputs": [],
   "source": [
    "final_merged.head(50)"
   ]
  },
  {
   "cell_type": "code",
   "execution_count": null,
   "id": "96ac011e",
   "metadata": {},
   "outputs": [],
   "source": [
    "final_merged.head(50)"
   ]
  },
  {
   "cell_type": "code",
   "execution_count": null,
   "id": "eeac1857",
   "metadata": {},
   "outputs": [],
   "source": [
    "final_merged = final_merged.drop(columns=[\"0_wos\", \"0_gosch\"])\n",
    "final_merged.head(1)"
   ]
  },
  {
   "cell_type": "code",
   "execution_count": null,
   "id": "ce626bd1",
   "metadata": {},
   "outputs": [],
   "source": [
    "final_merged.isnull().sum()"
   ]
  },
  {
   "cell_type": "code",
   "execution_count": null,
   "id": "2f753933",
   "metadata": {},
   "outputs": [],
   "source": [
    "import re \n",
    "\n",
    "# Fonction pour extraire le nom du pays\n",
    "def extract_country(affiliation):\n",
    "    if pd.isnull(affiliation):  # Vérifie si la valeur est NaN\n",
    "        return None\n",
    "    match = re.search(r'-\\s*(\\w+)$', affiliation)  # Recherche le texte après le tiret\n",
    "    return match.group(1) if match else affiliation  # Retourne le pays s'il est trouvé\n",
    "\n",
    "# Appliquer la fonction sur la colonne 'Author_Affiliation_scop'\n",
    "final_merged['Author_Affiliation_scop'] = final_merged['Author_Affiliation_scop'].apply(extract_country)\n",
    "\n",
    "final_merged = final_merged.drop(columns=[\"Author_ID_wos\", \"Author_Name_wos\", \"Author_Affiliation_wos\", \"Co_authors_Names_wos\", \"H-Index\",\"Author_Citations_wos\",\"Articles\", \"Journal\"])\n",
    "\n",
    "# Afficher les premières lignes pour validation\n",
    "final_merged[\"Author_Affiliation_scop\"].head(2)"
   ]
  },
  {
   "cell_type": "code",
   "execution_count": null,
   "id": "aa11d1a3",
   "metadata": {},
   "outputs": [],
   "source": [
    "final_merged.isnull().sum()"
   ]
  },
  {
   "cell_type": "code",
   "execution_count": null,
   "id": "604538a3",
   "metadata": {},
   "outputs": [],
   "source": [
    "try:\n",
    "    final_merged.to_csv(\"datasets/merged_authors_datasets.csv\", index=False)\n",
    "    print(\"Dataset saved\")\n",
    "except: \n",
    "    print(\"Error..\")"
   ]
  },
  {
   "cell_type": "code",
   "execution_count": null,
   "id": "56f7a181",
   "metadata": {},
   "outputs": [],
   "source": [
    "df = pd.read_csv(\"datasets/merged_authors_datasets.csv\")\n",
    "df.head(3)"
   ]
  },
  {
   "cell_type": "code",
   "execution_count": null,
   "id": "8cdbffb1",
   "metadata": {},
   "outputs": [],
   "source": [
    "df.rename(columns={\n",
    "    \"Author_ID_scop\": \"Author_ID\",\n",
    "    \"Author_Name_scop\": \"Author_Name\",\n",
    "    \"Author_Affiliation_scop\" : \"Author_Affiliation\",\n",
    "    \"Author_Citations_scop\": \"Author_Citations\",\n",
    "    \"Author_Documents\": \"Author_Documents_number\",\n",
    "    \"Author_h-index_scop\" : \"H-index\",\n",
    "    \"Author_FWCI\" : \"FWCI\",\n",
    "    \"Co_authors_Names_scop\" : \"Co_authors_Names\"\n",
    "}, inplace=True)"
   ]
  },
  {
   "cell_type": "code",
   "execution_count": null,
   "id": "02f375b0",
   "metadata": {},
   "outputs": [],
   "source": [
    "df.columns\n"
   ]
  },
  {
   "cell_type": "code",
   "execution_count": null,
   "id": "62bdcd2e",
   "metadata": {},
   "outputs": [],
   "source": [
    "try:\n",
    "    df.to_csv(\"datasets/merged_authors_datasets.csv\", index=False)\n",
    "    print(\"Dataset saved\")\n",
    "except: \n",
    "    print(\"Error..\")"
   ]
  },
  {
   "cell_type": "markdown",
   "id": "7df7d698",
   "metadata": {},
   "source": [
    "**Documents/Journals Matching**"
   ]
  },
  {
   "cell_type": "code",
   "execution_count": null,
   "id": "f16ec8c9",
   "metadata": {},
   "outputs": [],
   "source": [
    "df1 = pd.read_csv(\"datasets/merged_authors_datasets.csv\")\n",
    "df2 = pd.read_json('datasets/scopus_docs_journals.json')\n",
    "df3_articles = pd.read_csv(\"datasets/partial_article_info_gosch.csv\")\n",
    "df4_journals = pd.read_csv('datasets/partial_journal_info_gosch.csv')"
   ]
  },
  {
   "cell_type": "code",
   "execution_count": null,
   "id": "b6c6f747",
   "metadata": {},
   "outputs": [],
   "source": [
    "df1.head(1)"
   ]
  },
  {
   "cell_type": "code",
   "execution_count": null,
   "id": "a5eb7705",
   "metadata": {},
   "outputs": [],
   "source": [
    "df2.head(1)"
   ]
  },
  {
   "cell_type": "code",
   "execution_count": null,
   "id": "79c36bea",
   "metadata": {},
   "outputs": [],
   "source": [
    "df3_articles.head(1)"
   ]
  },
  {
   "cell_type": "code",
   "execution_count": null,
   "id": "e3a27b31",
   "metadata": {},
   "outputs": [],
   "source": [
    "df4_journals.head(1)"
   ]
  },
  {
   "cell_type": "code",
   "execution_count": null,
   "id": "a8e498b0",
   "metadata": {},
   "outputs": [],
   "source": [
    "df3_articles.shape ,df4_journals.shape"
   ]
  },
  {
   "cell_type": "code",
   "execution_count": null,
   "id": "dac729e8",
   "metadata": {},
   "outputs": [],
   "source": [
    "df3_articles.duplicated().sum(), df4_journals.duplicated().sum()"
   ]
  },
  {
   "cell_type": "code",
   "execution_count": null,
   "id": "5ec43317",
   "metadata": {},
   "outputs": [],
   "source": [
    "print(df3_articles['ISSN'].nunique())  # Nombre d'ISSN uniques dans df3_articles\n",
    "print(df4_journals['ISSN'].nunique())  # Nombre d'ISSN uniques dans df4_journals"
   ]
  },
  {
   "cell_type": "code",
   "execution_count": null,
   "id": "76d89b78",
   "metadata": {},
   "outputs": [],
   "source": [
    "print(df3_articles['ISSN'].value_counts())  # Vérifie combien de fois chaque ISSN apparaît\n",
    "print(df4_journals['ISSN'].value_counts())"
   ]
  },
  {
   "cell_type": "code",
   "execution_count": null,
   "id": "ae0ef379",
   "metadata": {
    "scrolled": true
   },
   "outputs": [],
   "source": [
    "df3_articles_unique = df3_articles.drop_duplicates(subset=['ISSN'])\n",
    "df4_journals_unique = df4_journals.drop_duplicates(subset=['ISSN'])\n",
    "\n",
    "merged_df_gosch = pd.merge(df3_articles_unique, df4_journals_unique, on='ISSN', how='inner')\n",
    "print(merged_df_gosch.shape)  # Cela devrait limiter le nombre de lignes\n"
   ]
  },
  {
   "cell_type": "code",
   "execution_count": null,
   "id": "cc22fe80",
   "metadata": {},
   "outputs": [],
   "source": [
    "merged_df_gosch.head(2)"
   ]
  },
  {
   "cell_type": "code",
   "execution_count": null,
   "id": "98697107",
   "metadata": {},
   "outputs": [],
   "source": [
    "merged_df_gosch.duplicated().sum()"
   ]
  },
  {
   "cell_type": "code",
   "execution_count": null,
   "id": "199366db",
   "metadata": {},
   "outputs": [],
   "source": [
    "merged_df_gosch.isna().sum()"
   ]
  },
  {
   "cell_type": "code",
   "execution_count": null,
   "id": "ce8cead7",
   "metadata": {},
   "outputs": [],
   "source": [
    "merged_df_gosch.columns = [col + \"_gosch\" for col in merged_df_gosch.columns]"
   ]
  },
  {
   "cell_type": "markdown",
   "id": "ebed72c3",
   "metadata": {},
   "source": [
    "- Les Articles de Scopus"
   ]
  },
  {
   "cell_type": "code",
   "execution_count": null,
   "id": "cf50c59f",
   "metadata": {
    "scrolled": true
   },
   "outputs": [],
   "source": [
    "df2[\"articles\"]"
   ]
  },
  {
   "cell_type": "code",
   "execution_count": null,
   "id": "5a67ace9",
   "metadata": {},
   "outputs": [],
   "source": [
    "df2[\"articles\"][0]\n"
   ]
  },
  {
   "cell_type": "code",
   "execution_count": null,
   "id": "1be89bfd",
   "metadata": {},
   "outputs": [],
   "source": [
    "df2[\"articles\"].isnull().sum()"
   ]
  },
  {
   "cell_type": "markdown",
   "id": "beef05d6",
   "metadata": {},
   "source": [
    "**Résultat attendu : Chaque ligne représente un article avec ses informations détaillées.**\n",
    "\n",
    "- title\n",
    "- pub_year\n",
    "- citations\n",
    "- issn\n",
    "- DOI\n",
    "- document type\n",
    "- source type\n",
    "- abstract\n",
    "- authors\n",
    "- author_keywords\n",
    "- Nom de la revue\n",
    "- H-index\n",
    "- Editeur\n",
    "- journal_issn\n",
    "- index\n",
    "- Portee thematique\n",
    "- Quartile.quartile_value\n",
    "- Score SJR\n",
    "- Impact Factor.impact_factor_value\n"
   ]
  },
  {
   "cell_type": "code",
   "execution_count": null,
   "id": "90eb5c67",
   "metadata": {},
   "outputs": [],
   "source": [
    "# Assuming df2 is the DataFrame containing the 'articles' column\n",
    "data = df2[\"articles\"]\n",
    "\n",
    "processed_data = []\n",
    "\n",
    "# Iterate over each list in the 'articles' column\n",
    "for article_list in data:\n",
    "    if isinstance(article_list, list):  # Ensure the entry is a list\n",
    "        for article in article_list:  # Iterate over each dictionary (article)\n",
    "            if isinstance(article, dict):  # Ensure the element is a dictionary\n",
    "                row = {\n",
    "                    \"title\": article.get(\"title\"),\n",
    "                    \"pub_year\": article.get(\"pub year\"),\n",
    "                    \"citations\": article.get(\"citations\"),\n",
    "                    \"issn\": article.get(\"issn\"),\n",
    "                    \"DOI\": article.get(\"DOI\"),\n",
    "                    \"document_type\": article.get(\"document type\"),\n",
    "                    \"source_type\": article.get(\"source type\"),\n",
    "                    \"abstract\": article.get(\"abstract\"),\n",
    "                    \"authors\": \", \".join(article.get(\"authors\", [])),\n",
    "                    # Ensure 'author keywords' is a list or empty list before joining\n",
    "                    \"author_keywords\": \", \".join(article.get(\"author keywords\", [])) if isinstance(article.get(\"author keywords\", []), list) else \"\"\n",
    "                }\n",
    "\n",
    "                # Check if 'journal info' exists and is not None before processing\n",
    "                journal_info = article.get(\"journal info\")\n",
    "                if journal_info:\n",
    "                    row.update({\n",
    "                        \"journal_name\": journal_info.get(\"name\"),\n",
    "                        \"journal_publisher\": journal_info.get(\"publisher\"),\n",
    "                        \"journal_issn\": journal_info.get(\"issn\"),\n",
    "                        \"journal_scope\": journal_info.get(\"scope\"),\n",
    "                        \"journal_quartile\": journal_info.get(\"quartile\"),\n",
    "                    })\n",
    "                \n",
    "                processed_data.append(row)\n",
    "            else:\n",
    "                print(f\"Unexpected article type: {type(article)}, article: {article}\")\n",
    "    else:\n",
    "        print(f\"Unexpected entry type in data: {type(article_list)}, entry: {article_list}\")\n",
    "\n",
    "# Convert the processed data to a DataFrame for easier analysis\n",
    "processed_df = pd.DataFrame(processed_data)"
   ]
  },
  {
   "cell_type": "code",
   "execution_count": null,
   "id": "a29ca398",
   "metadata": {
    "scrolled": true
   },
   "outputs": [],
   "source": [
    "processed_df.head(2)"
   ]
  },
  {
   "cell_type": "markdown",
   "id": "0a7f5b60",
   "metadata": {},
   "source": [
    "- renommer les colonnes"
   ]
  },
  {
   "cell_type": "code",
   "execution_count": null,
   "id": "e166829f",
   "metadata": {},
   "outputs": [],
   "source": [
    "processed_df.columns = [col + \"_scopus\" for col in processed_df.columns]"
   ]
  },
  {
   "cell_type": "code",
   "execution_count": null,
   "id": "af51fea8",
   "metadata": {},
   "outputs": [],
   "source": [
    "processed_df.isnull().sum()"
   ]
  },
  {
   "cell_type": "code",
   "execution_count": null,
   "id": "82427c2c",
   "metadata": {},
   "outputs": [],
   "source": [
    "print(processed_df.shape, processed_df.duplicated().sum())\n",
    "processed_df = processed_df.drop_duplicates()"
   ]
  },
  {
   "cell_type": "code",
   "execution_count": null,
   "id": "e7cee5b7",
   "metadata": {},
   "outputs": [],
   "source": [
    "processed_df.duplicated().sum()"
   ]
  },
  {
   "cell_type": "code",
   "execution_count": null,
   "id": "85d7daea",
   "metadata": {},
   "outputs": [],
   "source": [
    "processed_df.isna().sum()"
   ]
  },
  {
   "cell_type": "code",
   "execution_count": null,
   "id": "de4ee609",
   "metadata": {},
   "outputs": [],
   "source": [
    "merged_df_gosch.isna().sum()\n"
   ]
  },
  {
   "cell_type": "markdown",
   "id": "7f9a2643",
   "metadata": {},
   "source": [
    "**Explications des mappages :**\n",
    "\n",
    "- title_scopus ↔ Titre de l'article_gosch\n",
    "- pub_year_scopus ↔ Année de publication_gosch\n",
    "- citations_scopus ↔ Nombre de citations_gosch\n",
    "- issn_scopus ↔ ISSN_gosch\n",
    "- DOI_scopus ↔ DOI_gosch\n",
    "- abstract_scopus ↔ Résumé_gosch\n",
    "- journal_name_scopus ↔ Nom_gosch\n",
    "- journal_publisher_scopus ↔ Editeur_gosch\n",
    "- journal_issn_scopus ↔ ISSN_gosch\n",
    "- journal_scope_scopus ↔ Portee thematique_gosch\n",
    "- journal_quartile_scopus ↔ Quartile_gosch"
   ]
  },
  {
   "cell_type": "code",
   "execution_count": null,
   "id": "2a707d93",
   "metadata": {},
   "outputs": [],
   "source": [
    "# Colonnes correspondantes à synchroniser entre les deux DataFrames\n",
    "columns_to_sync = {\n",
    "    \"title_scopus\" : \"Titre de l'article_gosch\",\n",
    "    \"pub_year_scopus\" : \"Année de publication_gosch\",\n",
    "    \"citations_scopus\" : \"Nombre de citations_gosch\",\n",
    "    \"issn_scopus\" : \"ISSN_gosch\",\n",
    "    \"DOI_scopus\" : \"DOI_gosch\",\n",
    "    \"abstract_scopus\" : \"Résumé_gosch\",\n",
    "    \"journal_name_scopus\" : \"Nom_gosch\",\n",
    "    \"journal_publisher_scopus\" : \"Editeur_gosch\",\n",
    "    \"journal_issn_scopus\" : \"ISSN_gosch\",\n",
    "    \"journal_scope_scopus\" : \"Portee thematique_gosch\",\n",
    "    \"journal_quartile_scopus\" : \"Quartile_gosch\"\n",
    "}"
   ]
  },
  {
   "cell_type": "code",
   "execution_count": null,
   "id": "5843879a",
   "metadata": {},
   "outputs": [],
   "source": [
    "# Effectuer une jointure sur la colonne ISSN\n",
    "merged_result = processed_df.merge(\n",
    "    merged_df_gosch,\n",
    "    left_on=\"issn_scopus\",\n",
    "    right_on=\"ISSN_gosch\",\n",
    "    how=\"outer\"\n",
    ")"
   ]
  },
  {
   "cell_type": "code",
   "execution_count": null,
   "id": "c95e00bb",
   "metadata": {},
   "outputs": [],
   "source": [
    "# Synchroniser les colonnes\n",
    "for processed_col, gosch_col in columns_to_sync.items():\n",
    "    merged_result[processed_col] = merged_result[processed_col].combine_first(merged_result[gosch_col])\n",
    "    merged_result[gosch_col] = merged_result[gosch_col].combine_first(merged_result[processed_col])"
   ]
  },
  {
   "cell_type": "code",
   "execution_count": null,
   "id": "11fdfdd8",
   "metadata": {
    "scrolled": true
   },
   "outputs": [],
   "source": [
    "merged_result.head()"
   ]
  },
  {
   "cell_type": "code",
   "execution_count": null,
   "id": "c627e6cf",
   "metadata": {},
   "outputs": [],
   "source": [
    "# Diviser à nouveau en deux DataFrames avec les colonnes mises à jour\n",
    "updated_processed_df = merged_result[[col for col in processed_df.columns]]\n",
    "updated_merged_df_gosch = merged_result[[col for col in merged_df_gosch.columns]]"
   ]
  },
  {
   "cell_type": "code",
   "execution_count": null,
   "id": "4de3c90d",
   "metadata": {},
   "outputs": [],
   "source": [
    "updated_processed_df.isnull().sum()"
   ]
  },
  {
   "cell_type": "code",
   "execution_count": null,
   "id": "cdeb8741",
   "metadata": {},
   "outputs": [],
   "source": [
    "processed_df[\"title_scopus\"]\n",
    "title_scopus, document_type_scopus"
   ]
  },
  {
   "cell_type": "code",
   "execution_count": null,
   "id": "b9ad4949",
   "metadata": {},
   "outputs": [],
   "source": []
  },
  {
   "cell_type": "code",
   "execution_count": null,
   "id": "57af74eb",
   "metadata": {},
   "outputs": [],
   "source": []
  },
  {
   "cell_type": "code",
   "execution_count": null,
   "id": "d44eb301",
   "metadata": {},
   "outputs": [],
   "source": []
  },
  {
   "cell_type": "code",
   "execution_count": null,
   "id": "184569b7",
   "metadata": {},
   "outputs": [],
   "source": []
  },
  {
   "cell_type": "code",
   "execution_count": null,
   "id": "6f5f0b3c",
   "metadata": {},
   "outputs": [],
   "source": []
  },
  {
   "cell_type": "code",
   "execution_count": null,
   "id": "ddebb483",
   "metadata": {},
   "outputs": [],
   "source": []
  },
  {
   "cell_type": "markdown",
   "id": "cadf2c70",
   "metadata": {},
   "source": [
    "Fin."
   ]
  }
 ],
 "metadata": {
  "kernelspec": {
   "display_name": "base",
   "language": "python",
   "name": "python3"
  },
  "language_info": {
   "codemirror_mode": {
    "name": "ipython",
    "version": 3
   },
   "file_extension": ".py",
   "mimetype": "text/x-python",
   "name": "python",
   "nbconvert_exporter": "python",
   "pygments_lexer": "ipython3",
   "version": "3.12.7"
  }
 },
 "nbformat": 4,
 "nbformat_minor": 5
}
